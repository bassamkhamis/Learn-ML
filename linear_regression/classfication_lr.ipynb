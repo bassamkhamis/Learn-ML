{
 "cells": [
  {
   "cell_type": "code",
   "execution_count": 1,
   "id": "62b6a1bf",
   "metadata": {},
   "outputs": [],
   "source": [
    "import pandas  as pd #Data manipulation\n",
    "import numpy as np #Data manipulation\n",
    "import matplotlib.pyplot as plt # Visualization\n",
    "import seaborn as sns #Visualization\n",
    "plt.rcParams['figure.figsize'] = [8,5]\n",
    "plt.rcParams['font.size'] =14\n",
    "plt.rcParams['font.weight']= 'bold'\n",
    "plt.style.use('seaborn-v0_8-whitegrid')"
   ]
  },
  {
   "cell_type": "code",
   "execution_count": null,
   "id": "2e04d7bd",
   "metadata": {},
   "outputs": [
    {
     "name": "stdout",
     "output_type": "stream",
     "text": [
      "[[ 1  1  1]\n",
      " [ 1  2  1]\n",
      " [-1 -2 -2]\n",
      " [-1 -1 -2]]\n",
      "[ 3.  0. -2.]\n",
      "[ 1.  1. -1. -1.]\n"
     ]
    }
   ],
   "source": [
    "z = np.array([[1, 1, 1], [1, 2, 1], [-1, -2, -2], [-1, -1, -2]])\n",
    "print(z)\n",
    "B = np.array([1, 1, 1, 1])\n",
    "w = np.matmul(np.linalg.inv(np.matmul(z.T, z)), z.T)\n",
    "w = np.matmul(w, B)\n",
    "print(w)\n",
    "x1 = np.array([[1, 1, 1], [1, 2, 1], [1, 2, 2], [1, 1, 2]])\n",
    "y1 = np.matmul(x1, w)\n",
    "print(y1) # note: +ve => class 1, else class 2"
   ]
  },
  {
   "cell_type": "code",
   "execution_count": null,
   "id": "a79ad54d",
   "metadata": {},
   "outputs": [
    {
     "name": "stdout",
     "output_type": "stream",
     "text": [
      "[-3. 13.  3.  0.]\n"
     ]
    }
   ],
   "source": [
    "\n",
    "# test\n",
    "x2 = np.array([[1,1.5, 3], [1, 1.5, -5], [1, 1.5, 0], [1, 0, 1.5]])\n",
    "y2 = np.matmul(x2, w)\n",
    "print(y2) # Note: +ve class 1 else class 2"
   ]
  }
 ],
 "metadata": {
  "kernelspec": {
   "display_name": "linear_regression",
   "language": "python",
   "name": "python3"
  },
  "language_info": {
   "codemirror_mode": {
    "name": "ipython",
    "version": 3
   },
   "file_extension": ".py",
   "mimetype": "text/x-python",
   "name": "python",
   "nbconvert_exporter": "python",
   "pygments_lexer": "ipython3",
   "version": "3.11.13"
  }
 },
 "nbformat": 4,
 "nbformat_minor": 5
}
